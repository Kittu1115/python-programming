{
  "nbformat": 4,
  "nbformat_minor": 0,
  "metadata": {
    "colab": {
      "provenance": [],
      "collapsed_sections": [],
      "authorship_tag": "ABX9TyOVBKV3Kg2nKvQO7KYOwKy6",
      "include_colab_link": true
    },
    "kernelspec": {
      "name": "python3",
      "display_name": "Python 3"
    },
    "language_info": {
      "name": "python"
    }
  },
  "cells": [
    {
      "cell_type": "markdown",
      "metadata": {
        "id": "view-in-github",
        "colab_type": "text"
      },
      "source": [
        "<a href=\"https://colab.research.google.com/github/Kittu1115/python-programming/blob/main/task_1_python_programs.ipynb\" target=\"_parent\"><img src=\"https://colab.research.google.com/assets/colab-badge.svg\" alt=\"Open In Colab\"/></a>"
      ]
    },
    {
      "cell_type": "code",
      "execution_count": 47,
      "metadata": {
        "colab": {
          "base_uri": "https://localhost:8080/",
          "height": 35
        },
        "id": "sGmA4tdKQbvU",
        "outputId": "10efaf57-4c22-4789-f941-15ca7a675063"
      },
      "outputs": [
        {
          "output_type": "execute_result",
          "data": {
            "text/plain": [
              "'avyl  yh Tssyityopgmncsa alrnph rgni ni.'"
            ],
            "application/vnd.google.colaboratory.intrinsic+json": {
              "type": "string"
            }
          },
          "metadata": {},
          "execution_count": 47
        }
      ],
      "source": [
        "# ASSIGNMENT-1\n",
        "s=\"Iam very glad to say that , This is My First Python programming class and I am learning python string and its function. \"\n",
        "#1. try to extract the data from index one to 300 with a jump of 3\n",
        "s[1:300:3] "
      ]
    },
    {
      "cell_type": "code",
      "source": [
        " #2. try to reverse a string without using reverse function\n",
        "s[::-1]"
      ],
      "metadata": {
        "colab": {
          "base_uri": "https://localhost:8080/",
          "height": 35
        },
        "id": "NGviERhFQ1sR",
        "outputId": "a4fd7e38-ec7d-42df-e1e3-79fe4e394ea1"
      },
      "execution_count": 48,
      "outputs": [
        {
          "output_type": "execute_result",
          "data": {
            "text/plain": [
              "' .noitcnuf sti dna gnirts nohtyp gninrael ma I dna ssalc gnimmargorp nohtyP tsriF yM si sihT , taht yas ot dalg yrev maI'"
            ],
            "application/vnd.google.colaboratory.intrinsic+json": {
              "type": "string"
            }
          },
          "metadata": {},
          "execution_count": 48
        }
      ]
    },
    {
      "cell_type": "code",
      "source": [
        "#3. try to split a string after conversion of entire string in uppercase\n",
        "s=s.upper()\n",
        "s.split()"
      ],
      "metadata": {
        "colab": {
          "base_uri": "https://localhost:8080/"
        },
        "id": "UJHzQ6HXRTju",
        "outputId": "3773f6cd-4388-4e05-94ff-fdd7fcec09fa"
      },
      "execution_count": 49,
      "outputs": [
        {
          "output_type": "execute_result",
          "data": {
            "text/plain": [
              "['IAM',\n",
              " 'VERY',\n",
              " 'GLAD',\n",
              " 'TO',\n",
              " 'SAY',\n",
              " 'THAT',\n",
              " ',',\n",
              " 'THIS',\n",
              " 'IS',\n",
              " 'MY',\n",
              " 'FIRST',\n",
              " 'PYTHON',\n",
              " 'PROGRAMMING',\n",
              " 'CLASS',\n",
              " 'AND',\n",
              " 'I',\n",
              " 'AM',\n",
              " 'LEARNING',\n",
              " 'PYTHON',\n",
              " 'STRING',\n",
              " 'AND',\n",
              " 'ITS',\n",
              " 'FUNCTION.']"
            ]
          },
          "metadata": {},
          "execution_count": 49
        }
      ]
    },
    {
      "cell_type": "code",
      "source": [
        "#4. try to convert the whole string into lower case\n",
        "s.lower()\n"
      ],
      "metadata": {
        "colab": {
          "base_uri": "https://localhost:8080/",
          "height": 35
        },
        "id": "YxouXq6URcJq",
        "outputId": "fd838dac-fa72-49cc-8da9-3c2378108c00"
      },
      "execution_count": 50,
      "outputs": [
        {
          "output_type": "execute_result",
          "data": {
            "text/plain": [
              "'iam very glad to say that , this is my first python programming class and i am learning python string and its function. '"
            ],
            "application/vnd.google.colaboratory.intrinsic+json": {
              "type": "string"
            }
          },
          "metadata": {},
          "execution_count": 50
        }
      ]
    },
    {
      "cell_type": "code",
      "source": [
        "#5. try to capitalize the whole string\n",
        "s.capitalize()"
      ],
      "metadata": {
        "colab": {
          "base_uri": "https://localhost:8080/",
          "height": 35
        },
        "id": "ot-zeYJpSNhs",
        "outputId": "b992a456-5b23-4ce6-fc1d-99799bf870e8"
      },
      "execution_count": 51,
      "outputs": [
        {
          "output_type": "execute_result",
          "data": {
            "text/plain": [
              "'Iam very glad to say that , this is my first python programming class and i am learning python string and its function. '"
            ],
            "application/vnd.google.colaboratory.intrinsic+json": {
              "type": "string"
            }
          },
          "metadata": {},
          "execution_count": 51
        }
      ]
    },
    {
      "cell_type": "code",
      "source": [
        "#6. write a difference between isalnum() and isalpha()\n",
        "    # isalnum()\n",
        "    #  1. it is a built in python function that checks whether all ccharacters in a string are alphanumEric.\n",
        "    #  2. if all characters are aalphanumeric or numeric  isalnum() returns the True value otherwise the method returns False\n",
        "s=\"This is what iam behaving for myslef\"\n",
        "print(s.isalnum())    # it returns False because of all characters are strings only\n",
        "s1='170773'\n",
        "print(s1.isalnum())   # it returns True value because it is numeric \n",
        "s2='170773alphabetsafternumber' # it returns true value because alphanumeric \n",
        "print(s2.isalnum())\n",
        "s2='alphabetsbeforenumber170773' # it returns true value because alphanumeric \n",
        "print(s2.isalnum())\n",
        "s3='alphabets before number170773' # it returns false value because it has special characters also other than alphbets and numbers \n",
        "print(s3.isalnum())\n",
        "    # isalpha() \n",
        "    # 1. isalpha() is a string method used to check whether a string consists of only alphabetical character.\n",
        "    # 2. if all characters are alphabetics isalpha() returns the True value otherwise the method returns False\n",
        "s=\"thisisMyFirstPythonprogramming\"\n",
        "print(s.isalpha())    # it returns True because of all characters are strings only\n",
        "s1='170773'\n",
        "print(s1.isalpha())   # it returns False value because it is numeric \n",
        "s2='170773alphabetsafternumber' # it returns False value because alphanumeric \n",
        "print(s2.isalpha())\n",
        "s2='alphabetsbeforenumber170773' # it returns False value because alphanumeric \n",
        "print(s2.isalpha())\n",
        "s3='alphabets before number' # it returns false value because it has special characters also other than alphbets\n",
        "print(s3.isalpha())"
      ],
      "metadata": {
        "colab": {
          "base_uri": "https://localhost:8080/"
        },
        "id": "j-jbejacVb4A",
        "outputId": "8a292d6b-8ba3-4253-eb72-e3b827f5da2a"
      },
      "execution_count": 52,
      "outputs": [
        {
          "output_type": "stream",
          "name": "stdout",
          "text": [
            "False\n",
            "True\n",
            "True\n",
            "True\n",
            "False\n",
            "True\n",
            "False\n",
            "False\n",
            "False\n",
            "False\n"
          ]
        }
      ]
    },
    {
      "cell_type": "code",
      "source": [
        "#7. try to give an example of expand tab\n",
        "    # expandtabs()\n",
        "    # it is used to specify the the space between the data\n",
        "    # tabsize is optional and default it takes 8 whitespaces\n",
        "text=\"The\\texample\\tfor\\ttab\\tspace\\tbetween\\tthe\\twords\"\n",
        "print(text.expandtabs())\n",
        "print(text.expandtabs(4))\n",
        "print(text.expandtabs(8))\n",
        "print(text.expandtabs(15))"
      ],
      "metadata": {
        "colab": {
          "base_uri": "https://localhost:8080/"
        },
        "id": "-wJITbnzWeio",
        "outputId": "822e57e2-bbb6-4f3d-be5c-defda652d6fd"
      },
      "execution_count": 55,
      "outputs": [
        {
          "output_type": "stream",
          "name": "stdout",
          "text": [
            "The     example for     tab     space   between the     words\n",
            "The example for tab space   between the words\n",
            "The     example for     tab     space   between the     words\n",
            "The            example        for            tab            space          between        the            words\n"
          ]
        }
      ]
    },
    {
      "cell_type": "code",
      "source": [
        "#8.give an example of strip,lstrip,rstrip\n",
        "    # strip() \n",
        "    # it is used to remove the spaces at the beginning and ending of the data\n",
        "    # rstrip()\n",
        "    # it is used to remove the spaces at the ending of the data\n",
        "    # lstrip()\n",
        "    # it is used to remove the spaces at the beginning of the data\n",
        "s7=\"     i love my life to live in my way    \"\n",
        "print(s7.strip())\n",
        "print(s7.rstrip())\n",
        "print(s7.lstrip())"
      ],
      "metadata": {
        "colab": {
          "base_uri": "https://localhost:8080/"
        },
        "id": "opXdvxpqW31U",
        "outputId": "84e53f05-9742-48bf-ac79-50b5790d17f7"
      },
      "execution_count": 56,
      "outputs": [
        {
          "output_type": "stream",
          "name": "stdout",
          "text": [
            "i love my life to live in my way\n",
            "     i love my life to live in my way\n",
            "i love my life to live in my way    \n"
          ]
        }
      ]
    },
    {
      "cell_type": "code",
      "source": [
        "#9. Replace a string character by another character by taking your own example \"jayanthi\"\n",
        "    # replace()\n",
        "    # replace() method is used to replace the old string with new string\n",
        "    # syntax :\n",
        "        # replace(old string,new string)   default this replace all the old string values to the new string values\n",
        "        # replace(old string,new string,count)   count tells how many times you want to replace\n",
        "data=\"Priya medam is my favourite faculty.\" \n",
        "print(data.replace(\"Priya\",\"Jayanthi\"))\n",
        "data=\"Python medam is my favourite subject\" \n",
        "print(data.replace(\"medam\",\"subject\"))\n",
        "print(data.replace(\"subject\",\"one\",1))\n"
      ],
      "metadata": {
        "colab": {
          "base_uri": "https://localhost:8080/"
        },
        "id": "RwWFNAaKXD5c",
        "outputId": "bf1b779d-7a6c-438d-8cea-5f4f4c7d3e7b"
      },
      "execution_count": 39,
      "outputs": [
        {
          "output_type": "stream",
          "name": "stdout",
          "text": [
            "Jayanthi medam is my favourite faculty.\n",
            "Python subject is my favourite subject\n",
            "Python medam is my favourite one\n"
          ]
        }
      ]
    },
    {
      "cell_type": "code",
      "source": [
        "#10. try to give a definition of string center function with an example\n",
        "    # center() \n",
        "    # it is used dot center alighment of the data\n",
        "    #Syntax:\n",
        "        # center(length of the string)  default it takes the whitespaces \n",
        "        # center(length of the string,character)\n",
        "data=\"center alignment mytd\"\n",
        "print(data.center(100))\n",
        "print(data.center(100,'*'))"
      ],
      "metadata": {
        "colab": {
          "base_uri": "https://localhost:8080/"
        },
        "id": "1o0GZSQZXReY",
        "outputId": "44e90cc2-72ff-45a1-f0b0-bda070987f66"
      },
      "execution_count": 36,
      "outputs": [
        {
          "output_type": "stream",
          "name": "stdout",
          "text": [
            "                                       center alignment mytd                                        \n",
            "***************************************center alignment mytd****************************************\n"
          ]
        }
      ]
    },
    {
      "cell_type": "code",
      "source": [
        "#11. write your own definition of compiler and interpretor without copy paste from the internet in your own language\n",
        "    #    compiler \n",
        "        ==> 1. it takes the entire program in one go\n",
        "        ==> 2. the compiler generates an intermediate machine code\n",
        "            examples: c,c++,c#,java\n",
        "            \n",
        "    #   interpretor\n",
        "       ==> 1.it takes a single line of code at a time\n",
        "        ==> 2.it never produce intermediate machine code.\n",
        "            examples: python,PHP, Perl,Ruby."
      ],
      "metadata": {
        "id": "HLStxVAdXYcG"
      },
      "execution_count": null,
      "outputs": []
    },
    {
      "cell_type": "code",
      "source": [
        "#12. Python is a interpreted of compiled language give a clear ans with your understanding\n",
        "python is an interpreted language \n",
        "it takes a single line of code at a time to exicute\n",
        "the source of python program is converted into bytecode\n",
        "the bytecode is executed by the python virtual machine.\n",
        "so python is interpreted of compiled language."
      ],
      "metadata": {
        "id": "uQ2WOoT2XcnA"
      },
      "execution_count": null,
      "outputs": []
    }
  ]
}