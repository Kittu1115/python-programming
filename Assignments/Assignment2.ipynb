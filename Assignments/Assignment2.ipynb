{
 "cells": [
  {
   "cell_type": "code",
   "execution_count": 1,
   "id": "4b01be7c",
   "metadata": {},
   "outputs": [],
   "source": [
    "# python program to find sum f elements in a list "
   ]
  },
  {
   "cell_type": "code",
   "execution_count": 2,
   "id": "4b3041b1",
   "metadata": {},
   "outputs": [
    {
     "name": "stdout",
     "output_type": "stream",
     "text": [
      "the sum of list elements are  36\n"
     ]
    }
   ],
   "source": [
    "def sum_of_elements():\n",
    "    data=[1,2,3,4,5,6,7,8]\n",
    "    sum=0\n",
    "    for i in data:\n",
    "        sum=sum+i\n",
    "    print(\"the sum of list elements are \",sum)\n",
    "sum_of_elements()"
   ]
  },
  {
   "cell_type": "code",
   "execution_count": 3,
   "id": "e68be929",
   "metadata": {},
   "outputs": [],
   "source": [
    "# python program to multiply all numbers in a list "
   ]
  },
  {
   "cell_type": "code",
   "execution_count": 4,
   "id": "196df672",
   "metadata": {},
   "outputs": [
    {
     "name": "stdout",
     "output_type": "stream",
     "text": [
      "product of all list elements  362880\n"
     ]
    }
   ],
   "source": [
    "def multiply_of_elements():\n",
    "    data=[1,2,3,4,5,6,7,8,9,]\n",
    "    product=1\n",
    "    for j in data:\n",
    "        product=product*j\n",
    "    print(\"product of all list elements \",product)\n",
    "multiply_of_elements()\n",
    "        "
   ]
  },
  {
   "cell_type": "code",
   "execution_count": 5,
   "id": "7cdddab9",
   "metadata": {},
   "outputs": [],
   "source": [
    "# program to find second largest number in a list"
   ]
  },
  {
   "cell_type": "code",
   "execution_count": 6,
   "id": "0c5f68d8",
   "metadata": {},
   "outputs": [
    {
     "name": "stdout",
     "output_type": "stream",
     "text": [
      "7\n"
     ]
    }
   ],
   "source": [
    "def second_largest():\n",
    "    data=[1,2,3,4,5,6,7,8]\n",
    "    largest=data[0]\n",
    "    for i in data:\n",
    "        if i > largest : \n",
    "            largest = i\n",
    "    slargest = 0\n",
    "    for j in data :\n",
    "        if j == largest:\n",
    "            continue\n",
    "        if j > slargest : \n",
    "            slargest = j\n",
    "    print(slargest)\n",
    "second_largest()\n",
    "        "
   ]
  },
  {
   "cell_type": "code",
   "execution_count": 7,
   "id": "b2e2e4ee",
   "metadata": {},
   "outputs": [],
   "source": [
    "# program to remove empty list from list"
   ]
  },
  {
   "cell_type": "code",
   "execution_count": 8,
   "id": "c065dfaf",
   "metadata": {},
   "outputs": [
    {
     "name": "stdout",
     "output_type": "stream",
     "text": [
      "[1, 2, 3, [1, 2, 3, 4], 'string', 'string1']\n"
     ]
    }
   ],
   "source": [
    "def removing_empty_list():\n",
    "    data=[1,2,3,[1,2,3,4],[  ],'string','string1']\n",
    "    newdata=[]\n",
    "    for i in data:\n",
    "        if i==[]:\n",
    "            continue\n",
    "        else:\n",
    "            newdata.append(i)\n",
    "    print(newdata)\n",
    "removing_empty_list()   \n"
   ]
  },
  {
   "cell_type": "code",
   "execution_count": 9,
   "id": "cb1c2e4b",
   "metadata": {},
   "outputs": [
    {
     "name": "stdout",
     "output_type": "stream",
     "text": [
      "[1, 2, 3, [1, 2, 3, 4], 'string', 'string1']\n"
     ]
    }
   ],
   "source": [
    "def removing_empty_list():\n",
    "    data=[1,2,3,[1,2,3,4],[  ],'string','string1']\n",
    "    data.remove([])\n",
    "    print(data)\n",
    "removing_empty_list()   "
   ]
  },
  {
   "cell_type": "code",
   "execution_count": 10,
   "id": "5f9eccad",
   "metadata": {},
   "outputs": [],
   "source": [
    "# program to count occurence of elements in a list"
   ]
  },
  {
   "cell_type": "code",
   "execution_count": 11,
   "id": "7f235aa9",
   "metadata": {},
   "outputs": [
    {
     "name": "stdout",
     "output_type": "stream",
     "text": [
      "1  is occurred  1 time\n",
      "2  is occurred  2 times\n",
      "3  is occurred  2 times\n",
      "4  is occurred  1 time\n",
      "5  is occurred  1 time\n",
      "data  is occurred  1 time\n",
      "k  is occurred  1 time\n",
      "str  is occurred  1 time\n"
     ]
    }
   ],
   "source": [
    "def count_of_elements():\n",
    "    data=[1,2,3,3,2,4,5,'str','k','data']\n",
    "    data1=set(data)\n",
    "    for i in data1:\n",
    "        c=data.count(i)\n",
    "        end_char='times'\n",
    "        if c==1:\n",
    "            end_char='time'\n",
    "        print(i,\" is occurred \",c,end_char)       \n",
    "count_of_elements()  "
   ]
  },
  {
   "cell_type": "code",
   "execution_count": 12,
   "id": "a6bbd299",
   "metadata": {},
   "outputs": [],
   "source": [
    "# program to remove i'th character from string "
   ]
  },
  {
   "cell_type": "code",
   "execution_count": 13,
   "id": "92c8ff8f",
   "metadata": {},
   "outputs": [
    {
     "name": "stdout",
     "output_type": "stream",
     "text": [
      "enter the element which you want to remove:4\n",
      "the ata inside is strings"
     ]
    }
   ],
   "source": [
    "def remove_ith_character():\n",
    "    data='the data inside is strings'\n",
    "    char=int(input('enter the element which you want to remove:'))\n",
    "    for i in range(len(data)):\n",
    "        if i==char:\n",
    "            continue\n",
    "        print(data[i],end='')\n",
    "    \n",
    "remove_ith_character()"
   ]
  },
  {
   "cell_type": "code",
   "execution_count": 14,
   "id": "8d33f67c",
   "metadata": {},
   "outputs": [],
   "source": [
    "# program to check the givemn string is binary or not"
   ]
  },
  {
   "cell_type": "code",
   "execution_count": 15,
   "id": "bed281d4",
   "metadata": {},
   "outputs": [
    {
     "name": "stdout",
     "output_type": "stream",
     "text": [
      "fjkhfdvk10101\n",
      "False\n"
     ]
    }
   ],
   "source": [
    "def string_is_binary():\n",
    "    data=input()\n",
    "    zero='0'\n",
    "    one='1'\n",
    "    count=0\n",
    "    display=False\n",
    "    for j in range(len(data)):\n",
    "        if(data[j]==zero or data[j]==one):\n",
    "            count=count+1\n",
    "            if(count==len(data)):\n",
    "                display=True\n",
    "    print(display)\n",
    "            \n",
    "string_is_binary()\n",
    "    "
   ]
  },
  {
   "cell_type": "code",
   "execution_count": 16,
   "id": "df2eae1e",
   "metadata": {},
   "outputs": [],
   "source": [
    "# program to check the string contains any special characters"
   ]
  },
  {
   "cell_type": "code",
   "execution_count": 17,
   "id": "113a2ab7",
   "metadata": {},
   "outputs": [
    {
     "name": "stdout",
     "output_type": "stream",
     "text": [
      "gh ,jd jhbjchb\n",
      "the string doesn't contrains any special characters\n"
     ]
    }
   ],
   "source": [
    "def special_characters():\n",
    "    data=input()\n",
    "    count=0\n",
    "    special_characters='!@#$%^&*()_{}[]<>/\\|:?'\n",
    "    for i in range(len(data)):\n",
    "        for j in range(len(special_characters)):\n",
    "            if data[i]==special_characters[j]:\n",
    "                count=count+1    \n",
    "    if count>0:\n",
    "        print(\"the string contrains special characters\")\n",
    "    else:\n",
    "        print(\"the string doesn't contrains any special characters\")\n",
    "special_characters()      \n",
    "    \n"
   ]
  },
  {
   "cell_type": "code",
   "execution_count": 18,
   "id": "c01d2cd9",
   "metadata": {},
   "outputs": [],
   "source": [
    "# program to sort python dictionaries by key or value"
   ]
  },
  {
   "cell_type": "code",
   "execution_count": 19,
   "id": "949e920f",
   "metadata": {},
   "outputs": [
    {
     "name": "stdout",
     "output_type": "stream",
     "text": [
      "sorting of dictionaries by keys\n",
      "{1: 'four', 2: 'two', 4: 'one', 7: 'three'}\n"
     ]
    }
   ],
   "source": [
    "def sorting_dictionaries():\n",
    "    data={4:'one',2:'two',7:'three',1:'four'}\n",
    "    data1=list(data.items())\n",
    "    data1.sort()\n",
    "    data2=dict(data1)\n",
    "    print(\"sorting of dictionaries by keys\")\n",
    "    print(data2)\n",
    "    \n",
    "sorting_dictionaries()"
   ]
  },
  {
   "cell_type": "code",
   "execution_count": 20,
   "id": "9c2a1510",
   "metadata": {},
   "outputs": [],
   "source": [
    "# program to remove punctuations from string "
   ]
  },
  {
   "cell_type": "code",
   "execution_count": 21,
   "id": "d238e31f",
   "metadata": {},
   "outputs": [
    {
     "name": "stdout",
     "output_type": "stream",
     "text": [
      "adfqjh12jhb1@jnblkh!,.ouro'gyer;kitue:tuge\"kgvje....\n",
      "adfqjh12jhb1jnblkhourogyerkituetugekgvje\n"
     ]
    }
   ],
   "source": [
    "def removing_punctuations():\n",
    "    data=input()\n",
    "    data1=f''',.?:;!'()[]\" @_*...'''\n",
    "    for i in data:\n",
    "        if i in data1:\n",
    "            data=data.replace(i,'')\n",
    "    print(data)                \n",
    "removing_punctuations()"
   ]
  }
 ],
 "metadata": {
  "kernelspec": {
   "display_name": "Python 3",
   "language": "python",
   "name": "python3"
  },
  "language_info": {
   "codemirror_mode": {
    "name": "ipython",
    "version": 3
   },
   "file_extension": ".py",
   "mimetype": "text/x-python",
   "name": "python",
   "nbconvert_exporter": "python",
   "pygments_lexer": "ipython3",
   "version": "3.8.8"
  }
 },
 "nbformat": 4,
 "nbformat_minor": 5
}
